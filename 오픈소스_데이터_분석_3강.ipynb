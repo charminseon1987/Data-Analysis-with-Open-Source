{
  "cells": [
    {
      "cell_type": "markdown",
      "metadata": {
        "id": "view-in-github",
        "colab_type": "text"
      },
      "source": [
        "<a href=\"https://colab.research.google.com/github/charminseon1987/Data-Analysis-with-Open-Source/blob/main/%EC%98%A4%ED%94%88%EC%86%8C%EC%8A%A4_%EB%8D%B0%EC%9D%B4%ED%84%B0_%EB%B6%84%EC%84%9D_3%EA%B0%95.ipynb\" target=\"_parent\"><img src=\"https://colab.research.google.com/assets/colab-badge.svg\" alt=\"Open In Colab\"/></a>"
      ]
    },
    {
      "cell_type": "markdown",
      "metadata": {
        "id": "DkPKaAsoRq5Q"
      },
      "source": [
        "\n",
        "\n",
        "# 오픈소스 기반 데이터 분석 3강 - 데이터 분석을 위한 파이썬 2\n"
      ]
    },
    {
      "cell_type": "markdown",
      "metadata": {
        "id": "-I7BVVlnRrB0"
      },
      "source": [
        "## 3-1 언패킹"
      ]
    },
    {
      "cell_type": "code",
      "execution_count": 44,
      "metadata": {
        "id": "2Y2HEiaiRwAI",
        "colab": {
          "base_uri": "https://localhost:8080/"
        },
        "outputId": "83aa663e-10c0-44fb-8e39-50629e0f49f3"
      },
      "outputs": [
        {
          "output_type": "stream",
          "name": "stdout",
          "text": [
            "x좌표: 10, y좌표: 20\n",
            "빨강: 255, 초록: 128, 파랑: 0\n",
            "첫 번째 문자: A, 두 번째 문자: B, 세 번째 문자: C\n"
          ]
        }
      ],
      "source": [
        "coordinates = (10, 20)\n",
        "\n",
        "# 튜플 언패킹\n",
        "x,y = coordinates\n",
        "\n",
        "print(f'x좌표: {x}, y좌표: {y}')\n",
        "\n",
        "rgb = [255, 128, 0]\n",
        "# 리스트 언패킹\n",
        "red, green, blue = rgb\n",
        "\n",
        "\n",
        "\n",
        "print(f'빨강: {red}, 초록: {green}, 파랑: {blue}')\n",
        "\n",
        "word = 'ABC'\n",
        "# 문자열 언패킹\n",
        "first, second, third = word\n",
        "print(f'첫 번째 문자: {first}, 두 번째 문자: {second}, 세 번째 문자: {third}')"
      ]
    },
    {
      "cell_type": "code",
      "execution_count": 46,
      "metadata": {
        "id": "IO8bsKekR0W_",
        "colab": {
          "base_uri": "https://localhost:8080/"
        },
        "outputId": "54be952f-23c9-47e1-8491-8c217774e06d"
      },
      "outputs": [
        {
          "output_type": "stream",
          "name": "stdout",
          "text": [
            "최솟값: 5, 최댓값: 32, 평균: 15.57\n"
          ]
        }
      ],
      "source": [
        "def get_dataset_stats(values):\n",
        "  return min(values), max(values), sum(values) / len(values)\n",
        "\n",
        "data = [12, 8, 21, 17, 5, 32, 14]\n",
        "# 함수값 return 언패킹\n",
        "minimum, maximum, average = get_dataset_stats(data)\n",
        "\n",
        "print(f'최솟값: {minimum}, 최댓값: {maximum}, 평균: {average:.2f}')"
      ]
    },
    {
      "cell_type": "code",
      "execution_count": 47,
      "metadata": {
        "id": "60qOf7uxVdAg",
        "colab": {
          "base_uri": "https://localhost:8080/"
        },
        "outputId": "e77b5874-b870-4f59-9f26-3f4b994eae6d"
      },
      "outputs": [
        {
          "output_type": "stream",
          "name": "stdout",
          "text": [
            "김시은의 평균 점수: 85.0\n",
            "김시은의 평균 점수: 91.7\n",
            "김시은의 평균 점수: 82.7\n"
          ]
        }
      ],
      "source": [
        "student_scores = [\n",
        "    ('김철수', 85, 92, 78),\n",
        "    ('이영희', 92, 88, 95),\n",
        "    ('박지민', 75, 83, 90)\n",
        "]\n",
        "\n",
        "# 반복문에서 언패킹 사용\n",
        "\n",
        "for _,database,python,cloud in student_scores :\n",
        "  average = (database + python + cloud) / 3\n",
        "  print(f'{name}의 평균 점수: {average:.1f}')"
      ]
    },
    {
      "cell_type": "code",
      "execution_count": 48,
      "metadata": {
        "id": "JpmgdsW9V0CY",
        "colab": {
          "base_uri": "https://localhost:8080/"
        },
        "outputId": "234c6884-f611-49a2-d497-ee7ca86e3d64"
      },
      "outputs": [
        {
          "output_type": "stream",
          "name": "stdout",
          "text": [
            "1월 판매액: 1200\n",
            "2월 판매액: 1350\n",
            "나머지 월 판매액: [1420, 1500, 1300, 1580, 1620, 1700, 1800, 1850, 1900, 2000]\n",
            "첫 달(1월) 판매액: 1200\n",
            "마지막 달(12월) 판매액: 2000\n",
            "중간 달(2~11월)의 판매액: [1350, 1420, 1500, 1300, 1580, 1620, 1700, 1800, 1850, 1900]\n"
          ]
        }
      ],
      "source": [
        "monthly_sales = [1200, 1350, 1420, 1500, 1300, 1580, 1620, 1700, 1800, 1850, 1900, 2000]\n",
        "\n",
        "# 1월, 2월 및 나머지 월 매출액\n",
        "\n",
        "first,second,*remaining = monthly_sales\n",
        "first, *middle, last = monthly_sales\n",
        "\n",
        "\n",
        "\n",
        "print(f'1월 판매액: {first}')\n",
        "print(f'2월 판매액: {second}')\n",
        "print(f'나머지 월 판매액: {remaining}')\n",
        "\n",
        "# 1월, 12월 및 나머지 월 매출액\n",
        "\n",
        "print(f'첫 달(1월) 판매액: {first}')\n",
        "print(f'마지막 달(12월) 판매액: {last}')\n",
        "print(f'중간 달(2~11월)의 판매액: {middle}')"
      ]
    },
    {
      "cell_type": "markdown",
      "metadata": {
        "id": "RLfPaa1ZiqIC"
      },
      "source": [
        "## 3-5 언더스코어"
      ]
    },
    {
      "cell_type": "code",
      "execution_count": 61,
      "metadata": {
        "id": "cRC8x3_iW0im",
        "colab": {
          "base_uri": "https://localhost:8080/"
        },
        "outputId": "420173b7-c9b6-469e-caa8-c5a99acbd965"
      },
      "outputs": [
        {
          "output_type": "stream",
          "name": "stdout",
          "text": [
            "이름과 성적 출력:\n",
            "김철수의 성적3.8\n",
            "이영희의 성적4.2\n",
            "박민수의 성적3.5\n"
          ]
        }
      ],
      "source": [
        "students = [\n",
        "    (20251234, '김철수', '컴퓨터과학', 2, 3.8),\n",
        "    (20265678, '이영희', '생활과학부', 3, 4.2),\n",
        "    (20243456, '박민수', '사회복지학과', 1, 3.5)\n",
        "]\n",
        "\n",
        "print(\"이름과 성적 출력:\")\n",
        "for _, name, _,_,grade in students:\n",
        "    print(f'{name}의 성적{grade}')"
      ]
    },
    {
      "cell_type": "code",
      "execution_count": 66,
      "metadata": {
        "id": "oYTUmCiXzIvV",
        "colab": {
          "base_uri": "https://localhost:8080/"
        },
        "outputId": "e4e25b83-cee0-4c15-8a02-144fe2d2f0a7"
      },
      "outputs": [
        {
          "output_type": "stream",
          "name": "stdout",
          "text": [
            "30\n"
          ]
        }
      ],
      "source": [
        "def get_coordinates( ):\n",
        "    return (10, 20, 30)\n",
        "\n",
        "# 함수 return 값 언더스코어 사용\n",
        "\n",
        "_,_,y = get_coordinates()\n",
        "\n",
        "print(y)"
      ]
    },
    {
      "cell_type": "markdown",
      "metadata": {
        "id": "bkA3HL5QzIvV"
      },
      "source": [
        "## 3-2 예외 처리"
      ]
    },
    {
      "cell_type": "code",
      "execution_count": 69,
      "metadata": {
        "id": "IgUsqEAgzIvV",
        "colab": {
          "base_uri": "https://localhost:8080/"
        },
        "outputId": "a2203441-7ea3-4d88-d246-7432fc3c3f1d"
      },
      "outputs": [
        {
          "output_type": "stream",
          "name": "stdout",
          "text": [
            "정수를 입력하세요: 2\n",
            "결과: 5.0\n"
          ]
        }
      ],
      "source": [
        "number = int(input('정수를 입력하세요: '))\n",
        "result = 10 / number\n",
        "\n",
        "print(f'결과: {result}')"
      ]
    },
    {
      "cell_type": "code",
      "execution_count": 74,
      "metadata": {
        "id": "sGaFzT-WzdQF",
        "colab": {
          "base_uri": "https://localhost:8080/"
        },
        "outputId": "403f353d-e137-4d33-de0a-0953bbe50160"
      },
      "outputs": [
        {
          "output_type": "stream",
          "name": "stdout",
          "text": [
            "정수를 입력하세요: 0\n",
            "0으로 나눌 수 없습니다.\n"
          ]
        }
      ],
      "source": [
        "\n",
        "# try 문\n",
        "try:\n",
        "    number = int(input('정수를 입력하세요: '))\n",
        "    result = 10 / number\n",
        "    print(f'결과: {result}')\n",
        "\n",
        "# except 문\n",
        "except ZeroDivisionError:\n",
        "    print('0으로 나눌 수 없습니다.')\n",
        "except ValueError:\n",
        "    print('유효한 숫자를 입력해야 합니다.')"
      ]
    },
    {
      "cell_type": "code",
      "execution_count": 77,
      "metadata": {
        "id": "aJycqfJvzdGc",
        "colab": {
          "base_uri": "https://localhost:8080/"
        },
        "outputId": "d20d29cf-e587-4adc-c9a4-6d5249a5ef6d"
      },
      "outputs": [
        {
          "output_type": "stream",
          "name": "stdout",
          "text": [
            "숫자를 입력하세요: 0\n",
            "0으로 나눌 수 없습니다.\n",
            "결과: 2.5\n"
          ]
        }
      ],
      "source": [
        "# try 문\n",
        "try:\n",
        "    number = int(input('숫자를 입력하세요: '))\n",
        "    result = 10 / number\n",
        "\n",
        "# except 문 1\n",
        "except ValueError:\n",
        "    print('유효한 숫자를 입력해야 합니다.')\n",
        "\n",
        "# except 문 2\n",
        "except ZeroDivisionError:\n",
        "    print('0으로 나눌 수 없습니다.')\n",
        "\n",
        "print(f'결과: {result}')"
      ]
    },
    {
      "cell_type": "code",
      "execution_count": 93,
      "metadata": {
        "id": "lPcWWLiJ0ws4",
        "colab": {
          "base_uri": "https://localhost:8080/"
        },
        "outputId": "b3de6a5c-2ebd-4300-8f0b-2b9e67e016be"
      },
      "outputs": [
        {
          "output_type": "stream",
          "name": "stdout",
          "text": [
            "파일을 찾을 수 없습니다.\n",
            "파일 작업 종료.\n"
          ]
        }
      ],
      "source": [
        "# try 문\n",
        "\n",
        "try:\n",
        "    with open('data.csv', 'r') as file:\n",
        "        content = file.read( )\n",
        "        print(content)\n",
        "\n",
        "# except 문\n",
        "except:\n",
        "    print('파일을 찾을 수 없습니다.')\n",
        "\n",
        "# fianlly 블럭\n",
        "finally:\n",
        "    print('파일 작업 종료.')"
      ]
    },
    {
      "cell_type": "markdown",
      "metadata": {
        "id": "l0YVL4ArzIvV"
      },
      "source": [
        "## 3-3 함수형 프로그래밍"
      ]
    },
    {
      "cell_type": "code",
      "execution_count": 97,
      "metadata": {
        "id": "Syg5knhezIvV",
        "colab": {
          "base_uri": "https://localhost:8080/"
        },
        "outputId": "ea5613bc-52d4-4db6-c9f9-638a5be9820d"
      },
      "outputs": [
        {
          "output_type": "stream",
          "name": "stdout",
          "text": [
            "{'이지혜': 3300000.0000000005, '구민준': 5500000.0, '방서연': 4510000.0}\n"
          ]
        }
      ],
      "source": [
        "employees = {\n",
        "    '이지혜': 3000000,\n",
        "    '구민준': 5000000,\n",
        "    '방서연': 4100000\n",
        "}\n",
        "\n",
        "# 함수 정의: salary * 1.1\n",
        "adjust_salary = lambda salary:salary * 1.1\n",
        "# 급여 인상\n",
        "updated_salaries = {name:adjust_salary(salary) for name, salary in employees.items()}\n",
        "\n",
        "print(updated_salaries)"
      ]
    },
    {
      "cell_type": "code",
      "execution_count": 101,
      "metadata": {
        "id": "KM0psbppzIvV",
        "colab": {
          "base_uri": "https://localhost:8080/"
        },
        "outputId": "b26de81e-8d79-4be9-9db1-87e08dab8cb1"
      },
      "outputs": [
        {
          "output_type": "stream",
          "name": "stdout",
          "text": [
            "섭씨 온도 데이터: [25.6, 27.8, 30.5, 22.3, 28.9, 31.2, 24.7]\n",
            "화씨 온도로 변환: [78.08, 82.04, 86.9, 72.14, 84.02, 88.16, 76.46]\n"
          ]
        }
      ],
      "source": [
        "temperature_celsius = [25.6, 27.8, 30.5, 22.3, 28.9, 31.2, 24.7]\n",
        "\n",
        "# 함수 정의: 섭씨 -> 화씨\n",
        "cel_to_fah = lambda c: (c*9/5) +32\n",
        "# 온도 변환\n",
        "temperature_fahrenheit = list(map(cel_to_fah, temperature_celsius))\n",
        "\n",
        "\n",
        "print('섭씨 온도 데이터:', temperature_celsius)\n",
        "print('화씨 온도로 변환:', temperature_fahrenheit)"
      ]
    },
    {
      "cell_type": "code",
      "execution_count": null,
      "metadata": {
        "id": "rG3nqqfDzIvW"
      },
      "outputs": [],
      "source": [
        "words = ['python', 'data', 'analysis']\n",
        "\n",
        "# 함수 정의 및 대문자화\n",
        "\n",
        "\n",
        "\n",
        "print(uppercase_words)"
      ]
    },
    {
      "cell_type": "code",
      "execution_count": 109,
      "metadata": {
        "id": "9tFlZojhzIvW",
        "colab": {
          "base_uri": "https://localhost:8080/"
        },
        "outputId": "b8d064fb-cb29-4db8-9d57-b8ce1b22cdd3"
      },
      "outputs": [
        {
          "output_type": "stream",
          "name": "stdout",
          "text": [
            "\n",
            "급여 인상 후:\n",
            "김지원: 4,070,000원\n",
            "박민준: 7,700,000원\n",
            "이서연: 4,840,000원\n",
            "정현우: 3,850,000원\n"
          ]
        }
      ],
      "source": [
        "employees = [\n",
        "    {'name': '김지원', 'salary': 3700000},\n",
        "    {'name': '박민준', 'salary': 7000000},\n",
        "    {'name': '이서연', 'salary': 4400000},\n",
        "    {'name': '정현우', 'salary': 3500000}\n",
        "]\n",
        "\n",
        "# salary * 1.1\n",
        "adjusted_salary = lambda salary: salary * 1.1\n",
        "updated_employees =[\n",
        "    {'name':emp['name'],'salary': adjusted_salary(emp['salary'])}\n",
        "    for emp in employees\n",
        "]\n",
        "\n",
        "\n",
        "print('\\n급여 인상 후:')\n",
        "\n",
        "for emp in updated_employees:\n",
        "    print(f'{emp['name']}: {int(emp['salary']):,}원')"
      ]
    },
    {
      "cell_type": "code",
      "execution_count": 113,
      "metadata": {
        "id": "WHQxVdiuzIvW",
        "colab": {
          "base_uri": "https://localhost:8080/"
        },
        "outputId": "b9751c74-dbe5-4b5e-f5b3-530bdfb2dd4c"
      },
      "outputs": [
        {
          "output_type": "stream",
          "name": "stdout",
          "text": [
            "[10, 20, 30]\n"
          ]
        }
      ],
      "source": [
        "numbers = [10, 15, 20, 25, 30]\n",
        "\n",
        "# 짝수 필터링\n",
        "even_numbers = list(filter(lambda x: x % 2 == 0,numbers ))\n",
        "\n",
        "print(even_numbers)"
      ]
    },
    {
      "cell_type": "code",
      "execution_count": 114,
      "metadata": {
        "id": "1E-RQnBfzIvW",
        "colab": {
          "base_uri": "https://localhost:8080/"
        },
        "outputId": "0cf6154e-9907-4bfa-d323-aa57570f5190"
      },
      "outputs": [
        {
          "output_type": "stream",
          "name": "stdout",
          "text": [
            "이름: 김지원, 점수: 85\n",
            "이름: 박서연, 점수: 90\n",
            "이름: 최예은, 점수: 78\n"
          ]
        }
      ],
      "source": [
        "osda_students = [\n",
        "    {'name': '김지원', 'score': 85},\n",
        "    {'name': '이민준', 'score': 65},\n",
        "    {'name': '박서연', 'score': 90},\n",
        "    {'name': '정현우', 'score': 55},\n",
        "    {'name': '최예은', 'score': 78}\n",
        "]\n",
        "\n",
        "# 70점 이상 학생 목록 생성\n",
        "passed_students = list(filter(lambda student:student['score']>=70,osda_students))\n",
        "\n",
        "\n",
        "for student in passed_students:\n",
        "    print(f'이름: {student[\"name\"]}, 점수: {student[\"score\"]}')"
      ]
    },
    {
      "cell_type": "markdown",
      "source": [],
      "metadata": {
        "id": "_7FMo5yn4dQV"
      }
    },
    {
      "cell_type": "code",
      "execution_count": 120,
      "metadata": {
        "id": "1sVaIuwFzIvW",
        "colab": {
          "base_uri": "https://localhost:8080/"
        },
        "outputId": "7c254167-73fa-4974-b864-4461e0c0ee76"
      },
      "outputs": [
        {
          "output_type": "stream",
          "name": "stdout",
          "text": [
            "최대값: 9\n",
            "최소값: 2\n"
          ]
        }
      ],
      "source": [
        "from functools import reduce\n",
        "\n",
        "numbers = [3, 7, 2, 9, 5]\n",
        "\n",
        "# 최대값 생성\n",
        "max_value = reduce(lambda x,y : x if x > y else y, numbers)\n",
        "min_value = reduce(lambda x,y : x if x < y else y, numbers)\n",
        "\n",
        "print(f'최대값:', max_value)\n",
        "print(f'최소값:', min_value)"
      ]
    },
    {
      "cell_type": "code",
      "source": [
        "for _ in range(5):\n",
        "    print(\"Hello, Data Analysis with Open Source!\")\n",
        "\n",
        "for i in range (2):\n",
        "    print (f'No{i}: hello')\n",
        "\n",
        "for _ in range(3):\n",
        "    print ( f'goodbye')"
      ],
      "metadata": {
        "colab": {
          "base_uri": "https://localhost:8080/"
        },
        "id": "YKcoVvDZUD3_",
        "outputId": "86d91cfa-85e3-465f-e6cb-3678378f6dd9"
      },
      "execution_count": 8,
      "outputs": [
        {
          "output_type": "stream",
          "name": "stdout",
          "text": [
            "Hello, Data Analysis with Open Source!\n",
            "Hello, Data Analysis with Open Source!\n",
            "Hello, Data Analysis with Open Source!\n",
            "Hello, Data Analysis with Open Source!\n",
            "Hello, Data Analysis with Open Source!\n",
            "No0: hello\n",
            "No1: hello\n",
            "goodbye\n",
            "goodbye\n",
            "goodbye\n"
          ]
        }
      ]
    },
    {
      "cell_type": "code",
      "source": [
        "season = [1,2,3,4,5,6,7,8,9]\n",
        "first, *middle, last = season\n",
        "print (f'첫번쨰 {first}')\n",
        "print(f'확장언패킹 {middle}')\n",
        "print (f'마지막 {last}')\n"
      ],
      "metadata": {
        "colab": {
          "base_uri": "https://localhost:8080/"
        },
        "id": "Pry8fyp4YDQM",
        "outputId": "f6baacf6-3a65-45ab-b571-2a2bc1a8f997"
      },
      "execution_count": 9,
      "outputs": [
        {
          "output_type": "stream",
          "name": "stdout",
          "text": [
            "첫번쨰 1\n",
            "확장언패킹 [2, 3, 4, 5, 6, 7, 8]\n",
            "마지막 9\n"
          ]
        }
      ]
    },
    {
      "cell_type": "code",
      "source": [
        "rgb = [225, 128,0]\n",
        "red , green, blue = rgb\n",
        "print (f'빨강 :{red}, 초록 :{green}, 파랑 :{blue}')\n",
        "\n",
        "word ='ABC'\n",
        "first, second, third= word\n",
        "print (f'첫번쨰:{first},두번쨰:{second},세번쨰:{third}')\n"
      ],
      "metadata": {
        "colab": {
          "base_uri": "https://localhost:8080/"
        },
        "id": "XhLXcq6fdoIf",
        "outputId": "4bbc2e90-8780-4aef-f750-6ad2e60f558a"
      },
      "execution_count": 14,
      "outputs": [
        {
          "output_type": "stream",
          "name": "stdout",
          "text": [
            "빨강 :225, 초록 :128, 파랑 :0\n",
            "첫번쨰:A,두번쨰:B,세번쨰:C\n"
          ]
        }
      ]
    },
    {
      "cell_type": "markdown",
      "source": [],
      "metadata": {
        "id": "AbCUkZ5jdn9e"
      }
    },
    {
      "cell_type": "code",
      "source": [
        "students = [\n",
        "    (20251234 , '김철수','컴공',3),\n",
        "    (20251235 , '김희철','컹공',4)\n",
        "]\n",
        "print(\"이름과 성적 출력:\")\n",
        "for _, name, _,grade in students:\n",
        "    print(f'{name}의 성적{grade}')\n",
        ""
      ],
      "metadata": {
        "colab": {
          "base_uri": "https://localhost:8080/"
        },
        "id": "n0USmWTCgbK3",
        "outputId": "2b23887a-5dd3-45e4-d5ac-f9edae1f8445"
      },
      "execution_count": 15,
      "outputs": [
        {
          "output_type": "stream",
          "name": "stdout",
          "text": [
            "이름과 성적 출력:\n",
            "김철수의 성적3\n",
            "김희철의 성적4\n"
          ]
        }
      ]
    },
    {
      "cell_type": "code",
      "source": [
        "kids = {\n",
        "    '김근우' : 14,\n",
        "    '김도은' : 12,\n",
        "    '김시은' : 10\n",
        "}\n",
        "addAge = lambda age: age +1\n",
        "updated_age = {\n",
        "    name : addAge(age)\n",
        "    for name, age in kids.items()}\n",
        "print (updated_age)\n",
        "\n",
        "for name,age in updated_age.items():\n",
        "    print(f'{name}: {age}')\n"
      ],
      "metadata": {
        "colab": {
          "base_uri": "https://localhost:8080/"
        },
        "id": "bbhVhZ4BlzQE",
        "outputId": "89abe87a-aa77-419a-cd95-d2ee8a9037f6"
      },
      "execution_count": 39,
      "outputs": [
        {
          "output_type": "stream",
          "name": "stdout",
          "text": [
            "{'김근우': 15, '김도은': 13, '김시은': 11}\n",
            "김근우: 15\n",
            "김도은: 13\n",
            "김시은: 11\n"
          ]
        }
      ]
    },
    {
      "cell_type": "code",
      "source": [
        "temperature_celsius = [25.6, 27.8, 30.5, 22.3, 28.9, 31.2, 24.7]\n",
        "celsius_to_fahrenheit = lambda c: (c * 9/5) +32\n",
        "temperature_fahrenherit = list(map(celsius_to_fahrenheit, temperature_celsius))\n",
        "\n",
        "print('섭씨온도 데이터 : ', temperature_celsius )\n",
        "print('화씨온도로 변환  : ',temperature_fahrenherit )\n"
      ],
      "metadata": {
        "colab": {
          "base_uri": "https://localhost:8080/"
        },
        "id": "swCEhgbnow2Z",
        "outputId": "55d8a9a7-13b7-4731-b2b2-4560ca9761b7"
      },
      "execution_count": 33,
      "outputs": [
        {
          "output_type": "stream",
          "name": "stdout",
          "text": [
            "섭씨온도 데이터 :  [25.6, 27.8, 30.5, 22.3, 28.9, 31.2, 24.7]\n",
            "화씨온도로 변환  :  [78.08, 82.04, 86.9, 72.14, 84.02, 88.16, 76.46]\n"
          ]
        }
      ]
    },
    {
      "cell_type": "code",
      "source": [
        "students =[\n",
        "    {'name': '학생1', 'score':80},\n",
        "    {'name': '학생2', 'score':70},\n",
        "    {'name': '학생3', 'score':60}\n",
        "    ]\n",
        "passed_students = list(filter(lambda student:student['score']>=70,students))\n",
        "print('70점 이상 합격한 학생 목록:')\n",
        "for student in passed_students:\n",
        "    print(f\"이름:{student['name']}, 점수:{student['score']}\")\n",
        "\n"
      ],
      "metadata": {
        "colab": {
          "base_uri": "https://localhost:8080/"
        },
        "id": "ABGdvI8cs18R",
        "outputId": "bed50689-968d-421e-f40b-93bb7e5072c4"
      },
      "execution_count": 42,
      "outputs": [
        {
          "output_type": "stream",
          "name": "stdout",
          "text": [
            "70점 이상 합격한 학생 목록:\n",
            "이름:학생1, 점수:80\n",
            "이름:학생2, 점수:70\n"
          ]
        }
      ]
    },
    {
      "cell_type": "code",
      "source": [
        "from functools import reduce\n",
        "numbers =[1,2,3,4,5]\n",
        "total_sum= reduce(lambda x,y:x+y,numbers)\n",
        "print(total_sum)\n"
      ],
      "metadata": {
        "colab": {
          "base_uri": "https://localhost:8080/"
        },
        "id": "yyzpP3ioQN9F",
        "outputId": "8363521f-577f-43dd-c673-d6443837d857"
      },
      "execution_count": 43,
      "outputs": [
        {
          "output_type": "stream",
          "name": "stdout",
          "text": [
            "15\n"
          ]
        }
      ]
    },
    {
      "cell_type": "code",
      "source": [],
      "metadata": {
        "id": "VIHv_0I7XJxm"
      },
      "execution_count": null,
      "outputs": []
    }
  ],
  "metadata": {
    "colab": {
      "provenance": [],
      "include_colab_link": true
    },
    "kernelspec": {
      "display_name": "Python 3",
      "name": "python3"
    },
    "language_info": {
      "name": "python"
    }
  },
  "nbformat": 4,
  "nbformat_minor": 0
}